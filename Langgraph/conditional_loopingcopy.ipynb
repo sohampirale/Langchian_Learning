{
 "cells": [
  {
   "cell_type": "code",
   "execution_count": 1,
   "id": "9d119da7",
   "metadata": {},
   "outputs": [
    {
     "data": {
      "image/png": "[encoded data removed]",
      "text/plain": [
       "<IPython.core.display.Image object>"
      ]
     },
     "metadata": {},
     "output_type": "display_data"
    },
    {
     "name": "stdout",
     "output_type": "stream",
     "text": [
      "inside node incredmented num to 3\n",
      "inside node incredmented num to 4\n",
      "inside node incredmented num to 5\n",
      "inside node incredmented num to 6\n",
      "result : {'num': 6}\n"
     ]
    }
   ],
   "source": [
    "from langgraph.graph import StateGraph,START,END\n",
    "from typing import TypedDict\n",
    "\n",
    "class AgentState(TypedDict):\n",
    "  num:int\n",
    "\n",
    "def node(state:AgentState)->AgentState:\n",
    "  state[\"num\"]+=1\n",
    "  print(f\"inside node incredmented num to {state[\"num\"]}\")\n",
    "  return state\n",
    "\n",
    "def decider(state:AgentState)->str:\n",
    "  num = state[\"num\"]\n",
    "  if num <= 5:\n",
    "    return \"less_than_5\"\n",
    "  else :\n",
    "    return \"greater_than_5\"\n",
    "\n",
    "# graph = StateGraph(initial_state)\n",
    "graph = StateGraph(AgentState)\n",
    "graph.add_node(\"node\",node)\n",
    "graph.add_conditional_edges(\n",
    "  \"node\",\n",
    "  decider,\n",
    "  {\n",
    "    \"greater_than_5\":END,\n",
    "    \"less_than_5\":\"node\"\n",
    "  }\n",
    ")\n",
    "\n",
    "graph.add_edge(START,\"node\")\n",
    "# graph.add_edge(\"node\",END)\n",
    "\n",
    "app = graph.compile()\n",
    "\n",
    "from IPython.display import Image,display\n",
    "display(Image(app.get_graph().draw_mermaid_png()))\n",
    "\n",
    "\n",
    "initial_state= AgentState(num=2)\n",
    "\n",
    "result = app.invoke(initial_state)\n",
    "\n",
    "print(f\"result : {result}\")\n",
    "\n",
    "\n",
    "\n"
   ]
  },
  {
   "cell_type": "code",
   "execution_count": null,
   "id": "2e89969a",
   "metadata": {},
   "outputs": [],
   "source": []
  }
 ],
 "metadata": {
  "kernelspec": {
   "display_name": "Python 3",
   "language": "python",
   "name": "python3"
  },
  "language_info": {
   "codemirror_mode": {
    "name": "ipython",
    "version": 3
   },
   "file_extension": ".py",
   "mimetype": "text/x-python",
   "name": "python",
   "nbconvert_exporter": "python",
   "pygments_lexer": "ipython3",
   "version": "3.12.1"
  }
 },
 "nbformat": 4,
 "nbformat_minor": 5
}
